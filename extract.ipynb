{
 "cells": [
  {
   "cell_type": "code",
   "execution_count": 31,
   "metadata": {},
   "outputs": [],
   "source": [
    "import configparser\n",
    "def parse_ini(path):\n",
    "    config = configparser.ConfigParser(strict=False, allow_no_value=True, inline_comment_prefixes=(';',))\n",
    "    config.read(path)\n",
    "    data = {}\n",
    "    for section in config.sections():\n",
    "        data[section] = {}\n",
    "        for key, value in config.items(section):\n",
    "            if key in ['coders', 'gfx']: value = [v.strip() for v in value.split(',')]\n",
    "            data[section][key] = value\n",
    "    return data\n",
    "\n",
    "import pathlib\n",
    "ships = {}\n",
    "for p in pathlib.Path('.').rglob('*.ini'):\n",
    "    ships[p.stem] = parse_ini(p)"
   ]
  },
  {
   "cell_type": "code",
   "execution_count": 32,
   "metadata": {},
   "outputs": [],
   "source": [
    "for ship in ships:\n",
    "    if pathlib.Path(f'{ship}.txt').exists():\n",
    "      with open(f'{ship}.txt') as f:\n",
    "          ships[ship]['description'] = f.read().strip()\n",
    "import json\n",
    "with open('ships.json', 'w') as f:\n",
    "    json.dump(ships, f, indent=2)"
   ]
  },
  {
   "cell_type": "code",
   "execution_count": 30,
   "metadata": {},
   "outputs": [],
   "source": [
    "import zipfile\n",
    "from PIL import Image\n",
    "for ship in ships:\n",
    "  cockpit = []\n",
    "  panels = []\n",
    "  with zipfile.ZipFile(f'{ship}.zip') as z:\n",
    "    for f in sorted(z.namelist()):\n",
    "      if f.lower().endswith('.bmp'):\n",
    "        with z.open(f) as bmp:\n",
    "          i = Image.open(bmp)\n",
    "          if i.size == (55, 30):\n",
    "            i.load()\n",
    "            cockpit.append(i)\n",
    "          elif i.size == (64, 100):\n",
    "            i.load()\n",
    "            panels.append(i)\n",
    "    if cockpit:\n",
    "      cockpit[0].save(f'{ship}-cockpit.png')\n",
    "      cockpit[0].save(f'{ship}-cockpit.gif', save_all=True, append_images=cockpit[1:], optimize=True, duration=100, loop=0)\n",
    "    assert panels, ship\n",
    "    panels[0].save(f'{ship}-panel.png', save_all=True, append_images=panels[1:], optimize=True, duration=1000, loop=0)\n"
   ]
  },
  {
   "cell_type": "code",
   "execution_count": null,
   "metadata": {},
   "outputs": [],
   "source": []
  }
 ],
 "metadata": {
  "kernelspec": {
   "display_name": "Python 3",
   "language": "python",
   "name": "python3"
  },
  "language_info": {
   "codemirror_mode": {
    "name": "ipython",
    "version": 3
   },
   "file_extension": ".py",
   "mimetype": "text/x-python",
   "name": "python",
   "nbconvert_exporter": "python",
   "pygments_lexer": "ipython3",
   "version": "3.12.2"
  }
 },
 "nbformat": 4,
 "nbformat_minor": 2
}
